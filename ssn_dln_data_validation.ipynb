{
 "cells": [
  {
   "cell_type": "code",
   "execution_count": 4,
   "id": "0758db9c",
   "metadata": {},
   "outputs": [],
   "source": [
    "import pandas as pd\n",
    "# import re\n",
    "\n",
    "df = pd.read_excel(\"D:/Prep/TechTFQ/Python/PAN+Card+Validation+in+PYTHON+-+Scripts/PAN Card Validation in PYTHON - Scripts/US_Validation_Dataset.xlsx\")\n"
   ]
  },
  {
   "cell_type": "code",
   "execution_count": 5,
   "id": "c1cddf22",
   "metadata": {},
   "outputs": [
    {
     "data": {
      "text/plain": [
       "1020"
      ]
     },
     "execution_count": 5,
     "metadata": {},
     "output_type": "execute_result"
    }
   ],
   "source": [
    "len(df)"
   ]
  },
  {
   "cell_type": "markdown",
   "id": "61f67ece",
   "metadata": {},
   "source": [
    "### Removing rows where both columns are null\n"
   ]
  },
  {
   "cell_type": "code",
   "execution_count": 6,
   "id": "6dd6519f",
   "metadata": {},
   "outputs": [],
   "source": [
    "df = df.dropna(subset=[\"SSN\",\"DLN\"], how=\"all\").copy()"
   ]
  },
  {
   "cell_type": "code",
   "execution_count": 7,
   "id": "c136542f",
   "metadata": {},
   "outputs": [],
   "source": [
    "df[\"DLN\"] = df[\"DLN\"].astype(str).str.strip().str.upper()"
   ]
  },
  {
   "cell_type": "code",
   "execution_count": 14,
   "id": "eafdd874",
   "metadata": {},
   "outputs": [
    {
     "data": {
      "text/plain": [
       "0       M6380176\n",
       "1          KOBRV\n",
       "2       X6047962\n",
       "3       DCQDBWNK\n",
       "4       R0483424\n",
       "          ...   \n",
       "1010    X1472344\n",
       "1011    R3999359\n",
       "1013    X0046403\n",
       "1015    U9563333\n",
       "1019    D6098908\n",
       "Name: DLN, Length: 804, dtype: object"
      ]
     },
     "execution_count": 14,
     "metadata": {},
     "output_type": "execute_result"
    }
   ],
   "source": []
  },
  {
   "cell_type": "code",
   "execution_count": null,
   "id": "1dca51bd",
   "metadata": {},
   "outputs": [],
   "source": [
    "# Social Security Number (SSN)\n",
    "\n",
    "# Format: AAA-GG-SSSS\n",
    "\n",
    "# Exactly 9 digits (with or without dashes).\n",
    "\n",
    "# Cannot start with 000, 666, or 9.\n",
    "\n",
    "# Group GG cannot be 00.\n",
    "\n",
    "# Serial SSSS cannot be 0000.\n",
    "\n",
    "# Example Valid: 123-45-6789\n",
    "\n",
    "# Example Invalid: 000-12-3456, 666-45-6789, 12345678."
   ]
  },
  {
   "cell_type": "code",
   "execution_count": 8,
   "id": "b6a05608",
   "metadata": {},
   "outputs": [],
   "source": [
    "df = df.drop_duplicates(subset=[\"SSN\"],keep=\"first\")"
   ]
  },
  {
   "cell_type": "code",
   "execution_count": 9,
   "id": "6114ff4b",
   "metadata": {},
   "outputs": [],
   "source": [
    "df = df.drop_duplicates(subset=[\"DLN\"],keep=\"first\")"
   ]
  },
  {
   "cell_type": "code",
   "execution_count": 10,
   "id": "5f5f916d",
   "metadata": {
    "scrolled": true
   },
   "outputs": [
    {
     "data": {
      "text/plain": [
       "804"
      ]
     },
     "execution_count": 10,
     "metadata": {},
     "output_type": "execute_result"
    }
   ],
   "source": [
    "len(df)"
   ]
  },
  {
   "cell_type": "code",
   "execution_count": 11,
   "id": "8864a608",
   "metadata": {},
   "outputs": [],
   "source": [
    "df[\"SSN\"] = df[\"SSN\"].astype(str).str.replace(\"-\",\"\")"
   ]
  },
  {
   "cell_type": "code",
   "execution_count": 12,
   "id": "9c47f5e8",
   "metadata": {},
   "outputs": [],
   "source": [
    "# SSN Length Check \n",
    "def length_check(ssn):\n",
    "    if len(ssn) != 9:\n",
    "        return False\n",
    "    return True"
   ]
  },
  {
   "cell_type": "code",
   "execution_count": 13,
   "id": "6f872439",
   "metadata": {},
   "outputs": [],
   "source": [
    "#  Format: AAA-GG-SSSS\n",
    "# AAA is not 000 or 666\n",
    "def first_three(ssn):\n",
    "    ssn = str(ssn)\n",
    "    ch = ssn[:3]\n",
    "    if ch == '000' or ch == '666' or ssn[0] == '9':\n",
    "        return False\n",
    "    return True\n",
    "    "
   ]
  },
  {
   "cell_type": "code",
   "execution_count": 31,
   "id": "a2065e0b",
   "metadata": {},
   "outputs": [],
   "source": [
    "def second_two(ssn):\n",
    "    ssn = str(ssn)\n",
    "    ch = ssn[3:5]\n",
    "    if ch == '00':\n",
    "        return False\n",
    "    return True"
   ]
  },
  {
   "cell_type": "code",
   "execution_count": 1,
   "id": "08855d7f",
   "metadata": {},
   "outputs": [],
   "source": [
    "def last_four(ssn):\n",
    "    ssn = str(ssn)\n",
    "    ch = ssn[5:10]\n",
    "    if ch == '0000':\n",
    "        return False\n",
    "    return True"
   ]
  },
  {
   "cell_type": "code",
   "execution_count": 38,
   "id": "b5e281f0",
   "metadata": {},
   "outputs": [],
   "source": [
    "# to check format for Driver's licence, we use regular expression\n",
    "import re\n",
    "def dln_format_check(dln):\n",
    "    if not re.fullmatch(r'^[A-Z][0-9]{7}', dln):\n",
    "        return False\n",
    "    return True"
   ]
  },
  {
   "cell_type": "code",
   "execution_count": 32,
   "id": "2f805136",
   "metadata": {},
   "outputs": [],
   "source": [
    "def is_valid_ssn(ssn):\n",
    "    if len(ssn) != 9:\n",
    "        return False\n",
    "    if not first_three(ssn):\n",
    "        return False\n",
    "    if not second_two(ssn):\n",
    "        return False\n",
    "    if not last_four(ssn):\n",
    "        return False\n",
    "    return True"
   ]
  },
  {
   "cell_type": "code",
   "execution_count": 37,
   "id": "1e7938f8",
   "metadata": {},
   "outputs": [
    {
     "data": {
      "text/plain": [
       "True"
      ]
     },
     "execution_count": 37,
     "metadata": {},
     "output_type": "execute_result"
    }
   ],
   "source": [
    "# df[\"SSN_Status\"] = df[\"SSN\"].apply(lamda x: \"Valid SSN\" if is_valid_ssn(x) else \"Invalid SSN\")"
   ]
  },
  {
   "cell_type": "code",
   "execution_count": 42,
   "id": "671b711f",
   "metadata": {},
   "outputs": [],
   "source": [
    "def get_ssn_info(x):\n",
    "    if is_valid_ssn(x):\n",
    "        return pd.Series([\"Valid SSN\", f\"{str(x)[0:3]}-{str(x)[3:5]}-{str(x)[5:9]}\"])\n",
    "    else:\n",
    "        return pd.Series([\"Invalid SSN\",\"\"])\n",
    "    \n",
    "df[[\"SSN_Status\",\"Formatted_SSN\"]] = df[\"SSN\"].apply(get_ssn_info)"
   ]
  },
  {
   "cell_type": "code",
   "execution_count": 43,
   "id": "90c77c96",
   "metadata": {},
   "outputs": [
    {
     "data": {
      "text/html": [
       "<div>\n",
       "<style scoped>\n",
       "    .dataframe tbody tr th:only-of-type {\n",
       "        vertical-align: middle;\n",
       "    }\n",
       "\n",
       "    .dataframe tbody tr th {\n",
       "        vertical-align: top;\n",
       "    }\n",
       "\n",
       "    .dataframe thead th {\n",
       "        text-align: right;\n",
       "    }\n",
       "</style>\n",
       "<table border=\"1\" class=\"dataframe\">\n",
       "  <thead>\n",
       "    <tr style=\"text-align: right;\">\n",
       "      <th></th>\n",
       "      <th>SSN</th>\n",
       "      <th>DLN</th>\n",
       "      <th>SSN_Status</th>\n",
       "      <th>Formatted_SSN</th>\n",
       "    </tr>\n",
       "  </thead>\n",
       "  <tbody>\n",
       "    <tr>\n",
       "      <th>0</th>\n",
       "      <td>000123456</td>\n",
       "      <td>M6380176</td>\n",
       "      <td>Invalid SSN</td>\n",
       "      <td></td>\n",
       "    </tr>\n",
       "    <tr>\n",
       "      <th>1</th>\n",
       "      <td>686467986</td>\n",
       "      <td>KOBRV</td>\n",
       "      <td>Valid SSN</td>\n",
       "      <td>686-46-7986</td>\n",
       "    </tr>\n",
       "    <tr>\n",
       "      <th>2</th>\n",
       "      <td>qk9Otdbq3qh</td>\n",
       "      <td>X6047962</td>\n",
       "      <td>Invalid SSN</td>\n",
       "      <td></td>\n",
       "    </tr>\n",
       "    <tr>\n",
       "      <th>3</th>\n",
       "      <td>491327341</td>\n",
       "      <td>DCQDBWNK</td>\n",
       "      <td>Valid SSN</td>\n",
       "      <td>491-32-7341</td>\n",
       "    </tr>\n",
       "    <tr>\n",
       "      <th>4</th>\n",
       "      <td>nan</td>\n",
       "      <td>R0483424</td>\n",
       "      <td>Invalid SSN</td>\n",
       "      <td></td>\n",
       "    </tr>\n",
       "    <tr>\n",
       "      <th>...</th>\n",
       "      <td>...</td>\n",
       "      <td>...</td>\n",
       "      <td>...</td>\n",
       "      <td>...</td>\n",
       "    </tr>\n",
       "    <tr>\n",
       "      <th>1010</th>\n",
       "      <td>83193254</td>\n",
       "      <td>X1472344</td>\n",
       "      <td>Invalid SSN</td>\n",
       "      <td></td>\n",
       "    </tr>\n",
       "    <tr>\n",
       "      <th>1011</th>\n",
       "      <td>123689027</td>\n",
       "      <td>R3999359</td>\n",
       "      <td>Invalid SSN</td>\n",
       "      <td></td>\n",
       "    </tr>\n",
       "    <tr>\n",
       "      <th>1013</th>\n",
       "      <td>123364746</td>\n",
       "      <td>X0046403</td>\n",
       "      <td>Valid SSN</td>\n",
       "      <td>123-36-4746</td>\n",
       "    </tr>\n",
       "    <tr>\n",
       "      <th>1015</th>\n",
       "      <td>798712818</td>\n",
       "      <td>U9563333</td>\n",
       "      <td>Valid SSN</td>\n",
       "      <td>798-71-2818</td>\n",
       "    </tr>\n",
       "    <tr>\n",
       "      <th>1019</th>\n",
       "      <td>102145271</td>\n",
       "      <td>D6098908</td>\n",
       "      <td>Valid SSN</td>\n",
       "      <td>102-14-5271</td>\n",
       "    </tr>\n",
       "  </tbody>\n",
       "</table>\n",
       "<p>804 rows × 4 columns</p>\n",
       "</div>"
      ],
      "text/plain": [
       "              SSN       DLN   SSN_Status Formatted_SSN\n",
       "0      000123456   M6380176  Invalid SSN              \n",
       "1       686467986     KOBRV    Valid SSN   686-46-7986\n",
       "2     qk9Otdbq3qh  X6047962  Invalid SSN              \n",
       "3       491327341  DCQDBWNK    Valid SSN   491-32-7341\n",
       "4             nan  R0483424  Invalid SSN              \n",
       "...           ...       ...          ...           ...\n",
       "1010     83193254  X1472344  Invalid SSN              \n",
       "1011   123689027   R3999359  Invalid SSN              \n",
       "1013    123364746  X0046403    Valid SSN   123-36-4746\n",
       "1015    798712818  U9563333    Valid SSN   798-71-2818\n",
       "1019    102145271  D6098908    Valid SSN   102-14-5271\n",
       "\n",
       "[804 rows x 4 columns]"
      ]
     },
     "execution_count": 43,
     "metadata": {},
     "output_type": "execute_result"
    }
   ],
   "source": [
    "df"
   ]
  },
  {
   "cell_type": "code",
   "execution_count": 44,
   "id": "529026cd",
   "metadata": {},
   "outputs": [],
   "source": [
    "df[\"DLN_Status\"] = df[\"DLN\"].apply(lambda x: \"Valid DLN\" if dln_format_check(x) else \"Invalid DLN\")"
   ]
  },
  {
   "cell_type": "code",
   "execution_count": 45,
   "id": "7434d8da",
   "metadata": {},
   "outputs": [
    {
     "data": {
      "text/html": [
       "<div>\n",
       "<style scoped>\n",
       "    .dataframe tbody tr th:only-of-type {\n",
       "        vertical-align: middle;\n",
       "    }\n",
       "\n",
       "    .dataframe tbody tr th {\n",
       "        vertical-align: top;\n",
       "    }\n",
       "\n",
       "    .dataframe thead th {\n",
       "        text-align: right;\n",
       "    }\n",
       "</style>\n",
       "<table border=\"1\" class=\"dataframe\">\n",
       "  <thead>\n",
       "    <tr style=\"text-align: right;\">\n",
       "      <th></th>\n",
       "      <th>SSN</th>\n",
       "      <th>DLN</th>\n",
       "      <th>SSN_Status</th>\n",
       "      <th>Formatted_SSN</th>\n",
       "      <th>DLN_Status</th>\n",
       "    </tr>\n",
       "  </thead>\n",
       "  <tbody>\n",
       "    <tr>\n",
       "      <th>0</th>\n",
       "      <td>000123456</td>\n",
       "      <td>M6380176</td>\n",
       "      <td>Invalid SSN</td>\n",
       "      <td></td>\n",
       "      <td>Valid DLN</td>\n",
       "    </tr>\n",
       "    <tr>\n",
       "      <th>1</th>\n",
       "      <td>686467986</td>\n",
       "      <td>KOBRV</td>\n",
       "      <td>Valid SSN</td>\n",
       "      <td>686-46-7986</td>\n",
       "      <td>Invalid DLN</td>\n",
       "    </tr>\n",
       "    <tr>\n",
       "      <th>2</th>\n",
       "      <td>qk9Otdbq3qh</td>\n",
       "      <td>X6047962</td>\n",
       "      <td>Invalid SSN</td>\n",
       "      <td></td>\n",
       "      <td>Valid DLN</td>\n",
       "    </tr>\n",
       "    <tr>\n",
       "      <th>3</th>\n",
       "      <td>491327341</td>\n",
       "      <td>DCQDBWNK</td>\n",
       "      <td>Valid SSN</td>\n",
       "      <td>491-32-7341</td>\n",
       "      <td>Invalid DLN</td>\n",
       "    </tr>\n",
       "    <tr>\n",
       "      <th>4</th>\n",
       "      <td>nan</td>\n",
       "      <td>R0483424</td>\n",
       "      <td>Invalid SSN</td>\n",
       "      <td></td>\n",
       "      <td>Valid DLN</td>\n",
       "    </tr>\n",
       "    <tr>\n",
       "      <th>...</th>\n",
       "      <td>...</td>\n",
       "      <td>...</td>\n",
       "      <td>...</td>\n",
       "      <td>...</td>\n",
       "      <td>...</td>\n",
       "    </tr>\n",
       "    <tr>\n",
       "      <th>1010</th>\n",
       "      <td>83193254</td>\n",
       "      <td>X1472344</td>\n",
       "      <td>Invalid SSN</td>\n",
       "      <td></td>\n",
       "      <td>Valid DLN</td>\n",
       "    </tr>\n",
       "    <tr>\n",
       "      <th>1011</th>\n",
       "      <td>123689027</td>\n",
       "      <td>R3999359</td>\n",
       "      <td>Invalid SSN</td>\n",
       "      <td></td>\n",
       "      <td>Valid DLN</td>\n",
       "    </tr>\n",
       "    <tr>\n",
       "      <th>1013</th>\n",
       "      <td>123364746</td>\n",
       "      <td>X0046403</td>\n",
       "      <td>Valid SSN</td>\n",
       "      <td>123-36-4746</td>\n",
       "      <td>Valid DLN</td>\n",
       "    </tr>\n",
       "    <tr>\n",
       "      <th>1015</th>\n",
       "      <td>798712818</td>\n",
       "      <td>U9563333</td>\n",
       "      <td>Valid SSN</td>\n",
       "      <td>798-71-2818</td>\n",
       "      <td>Valid DLN</td>\n",
       "    </tr>\n",
       "    <tr>\n",
       "      <th>1019</th>\n",
       "      <td>102145271</td>\n",
       "      <td>D6098908</td>\n",
       "      <td>Valid SSN</td>\n",
       "      <td>102-14-5271</td>\n",
       "      <td>Valid DLN</td>\n",
       "    </tr>\n",
       "  </tbody>\n",
       "</table>\n",
       "<p>804 rows × 5 columns</p>\n",
       "</div>"
      ],
      "text/plain": [
       "              SSN       DLN   SSN_Status Formatted_SSN   DLN_Status\n",
       "0      000123456   M6380176  Invalid SSN                  Valid DLN\n",
       "1       686467986     KOBRV    Valid SSN   686-46-7986  Invalid DLN\n",
       "2     qk9Otdbq3qh  X6047962  Invalid SSN                  Valid DLN\n",
       "3       491327341  DCQDBWNK    Valid SSN   491-32-7341  Invalid DLN\n",
       "4             nan  R0483424  Invalid SSN                  Valid DLN\n",
       "...           ...       ...          ...           ...          ...\n",
       "1010     83193254  X1472344  Invalid SSN                  Valid DLN\n",
       "1011   123689027   R3999359  Invalid SSN                  Valid DLN\n",
       "1013    123364746  X0046403    Valid SSN   123-36-4746    Valid DLN\n",
       "1015    798712818  U9563333    Valid SSN   798-71-2818    Valid DLN\n",
       "1019    102145271  D6098908    Valid SSN   102-14-5271    Valid DLN\n",
       "\n",
       "[804 rows x 5 columns]"
      ]
     },
     "execution_count": 45,
     "metadata": {},
     "output_type": "execute_result"
    }
   ],
   "source": [
    "df"
   ]
  },
  {
   "cell_type": "markdown",
   "id": "252aa136",
   "metadata": {},
   "source": [
    "# Summary Report"
   ]
  },
  {
   "cell_type": "code",
   "execution_count": 48,
   "id": "c028cf5c",
   "metadata": {},
   "outputs": [],
   "source": [
    "\n",
    "# Total valid and Invalid SSNs\n",
    "valid_invalid_ssn = df.groupby(\"SSN_Status\").size()\n",
    "\n",
    "\n",
    "# Total valid  and Invalid DLNs\n",
    "\n",
    "valid_invalid_dln = df.groupby(\"DLN_Status\").size()\n",
    "\n",
    "\n",
    "\n"
   ]
  },
  {
   "cell_type": "markdown",
   "id": "e4981a0a",
   "metadata": {},
   "source": [
    "# Total Missing/Incomplete Records"
   ]
  },
  {
   "cell_type": "code",
   "execution_count": 57,
   "id": "f580c54e",
   "metadata": {},
   "outputs": [
    {
     "name": "stdout",
     "output_type": "stream",
     "text": [
      "Total missing or incomplete records: 244\n"
     ]
    }
   ],
   "source": [
    "# Total missing/incomplete records\n",
    "missing_records = df[\n",
    "    (df[\"SSN\"].isna()) |\n",
    "    (df[\"DLN\"].isna()) |\n",
    "    (df[\"SSN_Status\"] == \"Invalid SSN\") |\n",
    "    (df[\"DLN_Status\"] == \"Invalid_DLN\")\n",
    "]\n",
    "\n",
    "print(\"Total missing or incomplete records:\", len(missing_records))\n"
   ]
  },
  {
   "cell_type": "markdown",
   "id": "eb55b635",
   "metadata": {},
   "source": [
    "# Writing results to new excel file\n"
   ]
  },
  {
   "cell_type": "code",
   "execution_count": 58,
   "id": "1de6391f",
   "metadata": {},
   "outputs": [],
   "source": [
    "with pd.ExcelWriter(\"SSN_DLN_Validation_Results.xlsx\", engine=\"openpyxl\") as writer:\n",
    "    df.to_excel(writer, sheet_name=\"Validation_Results\", index=False)\n",
    "    missing_records.to_excel(writer, sheet_name=\"Missing_or_Invalid\", index=False)"
   ]
  },
  {
   "cell_type": "code",
   "execution_count": null,
   "id": "434778cb",
   "metadata": {},
   "outputs": [],
   "source": []
  },
  {
   "cell_type": "code",
   "execution_count": null,
   "id": "57f289a2",
   "metadata": {},
   "outputs": [],
   "source": []
  }
 ],
 "metadata": {
  "kernelspec": {
   "display_name": "Python 3 (ipykernel)",
   "language": "python",
   "name": "python3"
  },
  "language_info": {
   "codemirror_mode": {
    "name": "ipython",
    "version": 3
   },
   "file_extension": ".py",
   "mimetype": "text/x-python",
   "name": "python",
   "nbconvert_exporter": "python",
   "pygments_lexer": "ipython3",
   "version": "3.11.3"
  }
 },
 "nbformat": 4,
 "nbformat_minor": 5
}
